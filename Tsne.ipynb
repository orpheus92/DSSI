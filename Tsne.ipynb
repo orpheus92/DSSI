{
 "cells": [
  {
   "cell_type": "code",
   "execution_count": 1,
   "metadata": {},
   "outputs": [],
   "source": [
    "import cv2\n",
    "import numpy as np\n",
    "from matplotlib import pyplot as plt\n",
    "#%matplotlib ipympl\n",
    "import glob as gb\n",
    "import csv\n",
    "\n",
    "from sklearn import manifold"
   ]
  },
  {
   "cell_type": "code",
   "execution_count": 44,
   "metadata": {},
   "outputs": [],
   "source": [
    "def data_load(data_folders, res, states, file_ext=\"JPG\", exclude=None, include=None):\n",
    "    \n",
    "    total = []\n",
    "    total_f = []\n",
    "    total_lb = []\n",
    "    for df in data_folders:\n",
    "        img_path = gb.glob(df+'/*.'+file_ext ) \n",
    "        \n",
    "        for path in img_path:\n",
    "            clb = -1\n",
    "            pl = path.lower()\n",
    "            \n",
    "            if exclude is not None and exclude in pl:  \n",
    "                continue\n",
    "            \n",
    "            if include is not None and include not in pl:\n",
    "                continue\n",
    "            \n",
    "\n",
    "            \n",
    "            for lb in states:\n",
    "                if lb in pl:\n",
    "                    clb = states.index(lb)\n",
    "                    total_lb.append(clb)\n",
    "                    break\n",
    "            \n",
    "            if clb == -1:\n",
    "                continue\n",
    "            \n",
    "            img1 = cv2.imread(path, cv2.IMREAD_GRAYSCALE)#'data/Resized_256_256xBroken_0.JPG', cv2.IMREAD_GRAYSCALE)\n",
    "            if img1 is None:                   #判断读入的img1是否为空，为空就继续下一轮循环\n",
    "                continue\n",
    "            \n",
    "            res1= cv2.resize(img1,(res,res))              #对图片进行缩放，第一个参数是读入的图片，第二个是制定的缩放大小\n",
    "            res1 = cv2.equalizeHist(res1)\n",
    "            \n",
    "            norm_image = cv2.normalize(res1, None, alpha=0, beta=1, norm_type=cv2.NORM_MINMAX, dtype=cv2.CV_32F)\n",
    "            \n",
    "\n",
    "            \n",
    "            # Fourier Transform\n",
    "            f = np.fft.fft2(norm_image)\n",
    "            fshift = np.fft.fftshift(f)\n",
    "            fres = 20*np.ma.log(np.abs(fshift))\n",
    "            fres2 = fres.flatten().tolist()   \n",
    "            \n",
    "            res1_1 = norm_image.flatten()/255.0 #res1_1 = res1.reshape(1,784)/255.0       #将表示图片的二维矩阵转换成一维\n",
    "            #im_data = np.concatenate((im_data, res1_1))\n",
    "            res1_1_1 = res1_1.tolist()                     #将numpy.narray类型的矩阵转换成list\n",
    "            total.append(res1_1_1)  \n",
    "            total_f.append(fres2)\n",
    "            \n",
    "    im_dataf = np.array(total_f)\n",
    "    print(im_dataf.shape)\n",
    "    im_dataf[np.isnan(im_dataf)] = np.nanmean(im_dataf)\n",
    "    im_dataf[np.isinf(im_dataf)] = np.nanmean(im_dataf)\n",
    "\n",
    "    return np.array(total), im_dataf, np.array(total_lb)\n"
   ]
  },
  {
   "cell_type": "code",
   "execution_count": null,
   "metadata": {},
   "outputs": [],
   "source": [
    "# Preprocess IMG Data\n",
    "fd = ['data']\n",
    "res = 64\n",
    "im_data, im_dataf, im_lb = data_load(fd, res, ['dripping', 'jetting', 'wetting', 'broken'], include = '30oct17')"
   ]
  },
  {
   "cell_type": "code",
   "execution_count": 19,
   "metadata": {},
   "outputs": [],
   "source": [
    "im_data.tofile('data/img'+str(res)+'.bin')\n",
    "im_dataf.tofile('data/imgf'+str(res)+'.bin')\n",
    "im_lb.tofile('data/label.bin')"
   ]
  },
  {
   "cell_type": "code",
   "execution_count": 43,
   "metadata": {},
   "outputs": [
    {
     "data": {
      "text/plain": [
       "array([], dtype=float64)"
      ]
     },
     "execution_count": 43,
     "metadata": {},
     "output_type": "execute_result"
    }
   ],
   "source": [
    "im_dataf[np.isinf(im_dataf)]"
   ]
  },
  {
   "cell_type": "code",
   "execution_count": 38,
   "metadata": {},
   "outputs": [
    {
     "data": {
      "text/plain": [
       "array([[-19.74771186,  -2.55005334,  12.68803787, ...,  21.08007406,\n",
       "         13.77349297, -13.87168443],\n",
       "       [-29.27449045, -15.46500457,   2.27589869, ...,  10.89111676,\n",
       "          8.08987534,  -1.65934216],\n",
       "       [ 12.22938158, -10.94257874,  13.62892605, ...,   5.3713374 ,\n",
       "         13.61930086,  15.00393494],\n",
       "       ...,\n",
       "       [ 12.22938973,  -9.49619248,   4.48996935, ...,   1.23855405,\n",
       "          6.09867907, -13.28371595],\n",
       "       [-16.99832164, -17.64197481,   7.53085686, ..., -19.67672186,\n",
       "         13.19493103,  25.98498132],\n",
       "       [ -7.75942885,  -3.74111103,  -8.22387637, ...,  18.07357053,\n",
       "          9.67285123,  17.34275439]])"
      ]
     },
     "execution_count": 38,
     "metadata": {},
     "output_type": "execute_result"
    }
   ],
   "source": [
    "im_dataf"
   ]
  }
 ],
 "metadata": {
  "kernelspec": {
   "display_name": "Python 3",
   "language": "python",
   "name": "python3"
  },
  "language_info": {
   "codemirror_mode": {
    "name": "ipython",
    "version": 3
   },
   "file_extension": ".py",
   "mimetype": "text/x-python",
   "name": "python",
   "nbconvert_exporter": "python",
   "pygments_lexer": "ipython3",
   "version": "3.6.5"
  }
 },
 "nbformat": 4,
 "nbformat_minor": 2
}

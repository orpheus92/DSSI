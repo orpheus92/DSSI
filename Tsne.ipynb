{
 "cells": [
  {
   "cell_type": "code",
   "execution_count": 81,
   "metadata": {},
   "outputs": [],
   "source": [
    "import cv2\n",
    "import numpy as np\n",
    "from matplotlib import pyplot as plt\n",
    "#%matplotlib ipympl\n",
    "import glob as gb\n",
    "import csv\n",
    "import ast\n",
    "from sklearn import manifold\n",
    "from time import time\n",
    "from mpl_toolkits.mplot3d import Axes3D"
   ]
  },
  {
   "cell_type": "code",
   "execution_count": 77,
   "metadata": {},
   "outputs": [],
   "source": [
    "def img_read(data_folders, res, states, file_ext=\"JPG\", exclude=None, include=None):\n",
    "    \n",
    "    total = []\n",
    "    total_f = []\n",
    "    total_lb = []\n",
    "    for df in data_folders:\n",
    "        img_path = gb.glob(df+'/*.'+file_ext ) \n",
    "        \n",
    "        for path in img_path:\n",
    "            clb = -1\n",
    "            pl = path.lower()\n",
    "            \n",
    "            if exclude is not None and exclude in pl:  \n",
    "                continue\n",
    "            \n",
    "            if include is not None and include not in pl:\n",
    "                continue\n",
    "            \n",
    "\n",
    "            \n",
    "            for lb in states:\n",
    "                if lb in pl:\n",
    "                    clb = states.index(lb)\n",
    "                    total_lb.append(clb)\n",
    "                    break\n",
    "            \n",
    "            if clb == -1:\n",
    "                continue\n",
    "            \n",
    "            img1 = cv2.imread(path, cv2.IMREAD_GRAYSCALE)#'data/Resized_256_256xBroken_0.JPG', cv2.IMREAD_GRAYSCALE)\n",
    "            if img1 is None:                   #判断读入的img1是否为空，为空就继续下一轮循环\n",
    "                continue\n",
    "            \n",
    "            res1= cv2.resize(img1,(res,res))              #对图片进行缩放，第一个参数是读入的图片，第二个是制定的缩放大小\n",
    "            res1 = cv2.equalizeHist(res1)\n",
    "            \n",
    "            norm_image = cv2.normalize(res1, None, alpha=0, beta=1, norm_type=cv2.NORM_MINMAX, dtype=cv2.CV_32F)\n",
    "            \n",
    "\n",
    "            \n",
    "            # Fourier Transform\n",
    "            f = np.fft.fft2(norm_image)\n",
    "            fshift = np.fft.fftshift(f)\n",
    "            fres = 20*np.ma.log(np.abs(fshift))\n",
    "            fres2 = fres.flatten().tolist()   \n",
    "            \n",
    "            res1_1 = norm_image.flatten() #res1_1 = res1.reshape(1,784)/255.0       #将表示图片的二维矩阵转换成一维\n",
    "            #im_data = np.concatenate((im_data, res1_1))\n",
    "            res1_1_1 = res1_1.tolist()                     #将numpy.narray类型的矩阵转换成list\n",
    "            total.append(res1_1_1)  \n",
    "            total_f.append(fres2)\n",
    "    \n",
    "    im_data = np.array(total).astype('float32')\n",
    "    im_dataf = np.array(total_f).astype('float32')\n",
    "    im_lb = np.array(total_lb).astype('int32')\n",
    "    \n",
    "    #print(im_dataf.shape)\n",
    "    im_dataf[np.isnan(im_dataf)] = np.nanmean(im_dataf)\n",
    "    im_dataf[np.isinf(im_dataf)] = np.nanmean(im_dataf)\n",
    "    \n",
    "    data = dict()\n",
    "    data['spatial'] = im_data\n",
    "    data['freq'] = im_dataf\n",
    "    data['label'] = im_lb\n",
    "    return data\n",
    "\n",
    "\n",
    "def save_data(name, datas, meta):\n",
    "    file = open(meta,\"w\") \n",
    "    for data in datas:\n",
    "        file.write(name+'.'+data+'.bin')\n",
    "        file.write('%')\n",
    "        file.write('{}'.format(datas[data].shape))\n",
    "        file.write('%')\n",
    "        file.write('{}'.format(datas[data].dtype))\n",
    "        file.write('\\n')\n",
    "        datas[data].tofile(name+'.'+data+'.bin')\n",
    "    file.close()\n",
    "    return\n",
    "\n",
    "def load_data(meta):\n",
    "    file = open('data/meta',\"r\")\n",
    "    data = {}\n",
    "    for line in file:\n",
    "        name, shape, dtype = line.split('%')\n",
    "        dtype = dtype[0:-1]\n",
    "        cur_data = np.fromfile(name,  dtype=dtype)\n",
    "\n",
    "        name, shape, dtype = line.split('%')\n",
    "        n1, data_k, ext = name.split('.')\n",
    "        shape = ast.literal_eval(shape)\n",
    "        data[data_k] = cur_data.reshape(shape)\n",
    "    file.close()        \n",
    "    return data\n",
    "\n",
    "def plot_embedding_3d(X, title=None, y=None, colors = ['r', 'g', 'b', 'y']):\n",
    "    #坐标缩放到[0,1]区间\n",
    "    x_min, x_max = np.min(X,axis=0), np.max(X,axis=0)\n",
    "    X = (X - x_min) / (x_max - x_min)\n",
    "    #降维后的坐标为（X[i, 0], X[i, 1],X[i,2]），在该位置画出对应的digits\n",
    "    fig = plt.figure()\n",
    "    ax = fig.add_subplot(1, 1, 1, projection='3d')\n",
    "    for i in range(X.shape[0]):\n",
    "        ax.text(X[i, 0], X[i, 1], X[i,2],str(y[i]),\n",
    "                 color=colors[y[i]],#plt.cm.Set1(y[i] / colornum),\n",
    "                 fontdict={'weight': 'bold', 'size': 9})\n",
    "    if title is not None:\n",
    "        plt.title(title)"
   ]
  },
  {
   "cell_type": "code",
   "execution_count": 61,
   "metadata": {},
   "outputs": [],
   "source": [
    "# Preprocess IMG Data\n",
    "fd = ['data/Paritial/']\n",
    "res = 64\n",
    "data = img_read(fd, res, ['dripping', 'jetting', 'wetting', 'broken'])"
   ]
  },
  {
   "cell_type": "code",
   "execution_count": 63,
   "metadata": {},
   "outputs": [],
   "source": [
    "save_data('data/part', data, 'data/meta')"
   ]
  },
  {
   "cell_type": "code",
   "execution_count": 72,
   "metadata": {},
   "outputs": [],
   "source": [
    "data_l = load_data('data/meta')"
   ]
  },
  {
   "cell_type": "code",
   "execution_count": 62,
   "metadata": {},
   "outputs": [],
   "source": [
    "def plot_embedding_3d(X, title=None, colornum = 10):\n",
    "    #坐标缩放到[0,1]区间\n",
    "    x_min, x_max = np.min(X,axis=0), np.max(X,axis=0)\n",
    "    X = (X - x_min) / (x_max - x_min)\n",
    "    #降维后的坐标为（X[i, 0], X[i, 1],X[i,2]），在该位置画出对应的digits\n",
    "    fig = plt.figure()\n",
    "    ax = fig.add_subplot(1, 1, 1, projection='3d')\n",
    "    for i in range(X.shape[0]):\n",
    "        ax.text(X[i, 0], X[i, 1], X[i,2],str(digits.target[i]),\n",
    "                 color=plt.cm.Set1(y[i] / colornum),\n",
    "                 fontdict={'weight': 'bold', 'size': 9})\n",
    "    if title is not None:\n",
    "        plt.title(title)"
   ]
  },
  {
   "cell_type": "code",
   "execution_count": 73,
   "metadata": {},
   "outputs": [],
   "source": [
    "im_data = data_l['spatial']\n",
    "im_dataf = data_l['freq']\n",
    "\n",
    "from sklearn.decomposition import PCA\n",
    "pca = PCA(n_components=50)\n",
    "pcs = pca.fit_transform(im_data)\n",
    "pcsf = pca.fit_transform(im_dataf)"
   ]
  },
  {
   "cell_type": "code",
   "execution_count": 76,
   "metadata": {},
   "outputs": [],
   "source": [
    "tsne = manifold.TSNE(n_components=3, init='pca', random_state=0)\n",
    "t0 = time()\n",
    "X_tsnes = tsne.fit_transform(pcsf)"
   ]
  },
  {
   "cell_type": "code",
   "execution_count": 82,
   "metadata": {},
   "outputs": [
    {
     "data": {
      "image/png": "[encoded data removed]",
      "text/plain": [
       "<matplotlib.figure.Figure at 0x202fbfef710>"
      ]
     },
     "metadata": {},
     "output_type": "display_data"
    }
   ],
   "source": [
    "plot_embedding_3d(X_tsnes,\"t-SNE 3D (time %.2fs)\" %(time() - t0), y=im_lb)"
   ]
  },
  {
   "cell_type": "code",
   "execution_count": 85,
   "metadata": {},
   "outputs": [
    {
     "data": {
      "application/vnd.jupyter.widget-view+json": {
       "model_id": "a9bef0d0810d49e298f08b3ede3646e7",
       "version_major": 2,
       "version_minor": 0
      },
      "text/plain": [
       "FigureCanvasNbAgg()"
      ]
     },
     "metadata": {},
     "output_type": "display_data"
    }
   ],
   "source": [
    "%matplotlib ipympl\n",
    "#%matplotlib inline\n",
    "\n",
    "fig = plt.figure(figsize = (10,10))\n",
    "ax = fig.add_subplot(111, projection='3d')\n",
    "ax.set_xlabel('PC 1', fontsize = 15)\n",
    "ax.set_ylabel('PC 2', fontsize = 15)\n",
    "ax.set_zlabel('PC 3', fontsize = 15)\n",
    "ax.set_title('3 component PCA Fourier', fontsize = 20)\n",
    "\n",
    "targets = [0,1,2,3,4,5,6,7,8,9,10]\n",
    "states = ['drip','jet','wet','broken']\n",
    "colors = ['tab:blue', 'tab:orange', 'tab:green', 'tab:red', 'tab:purple', 'tab:brown', 'tab:pink', 'tab:gray', 'tab:olive', 'tab:cyan', 'k']\n",
    "\n",
    "for target, color, state in zip(targets,colors,states):\n",
    "    ##indicesToKeep = finalDf['target'] == target\n",
    "    ind = im_lb == target\n",
    "    ax.scatter(pcsf[ind,0],#finalDf.loc[indicesToKeep, 'principal component 1']\n",
    "               pcsf[ind,1],#, finalDf.loc[indicesToKeep, 'principal component 2']\n",
    "               pcsf[ind,2],\n",
    "               c = color,\n",
    "               s = 50)\n",
    "ax.legend(states)\n",
    "ax.grid()"
   ]
  },
  {
   "cell_type": "code",
   "execution_count": null,
   "metadata": {},
   "outputs": [],
   "source": []
  }
 ],
 "metadata": {
  "kernelspec": {
   "display_name": "Python 3",
   "language": "python",
   "name": "python3"
  },
  "language_info": {
   "codemirror_mode": {
    "name": "ipython",
    "version": 3
   },
   "file_extension": ".py",
   "mimetype": "text/x-python",
   "name": "python",
   "nbconvert_exporter": "python",
   "pygments_lexer": "ipython3",
   "version": "3.6.5"
  }
 },
 "nbformat": 4,
 "nbformat_minor": 2
}

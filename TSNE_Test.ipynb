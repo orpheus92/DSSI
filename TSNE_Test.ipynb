{
 "cells": [
  {
   "cell_type": "code",
   "execution_count": 5,
   "metadata": {},
   "outputs": [],
   "source": [
    "import cv2\n",
    "import numpy as np\n",
    "from matplotlib import pyplot as plt\n",
    "#%matplotlib ipympl\n",
    "import glob as gb\n",
    "import csv\n",
    "\n",
    "from sklearn import manifold"
   ]
  },
  {
   "cell_type": "code",
   "execution_count": 3,
   "metadata": {},
   "outputs": [],
   "source": [
    "# Process Data \n",
    "# data_folder: list of subdirs\n",
    "\n",
    "def data_load(data_folders, res, file_ext=\"JPG\"):\n",
    "    \n",
    "    total = []\n",
    "    for df in data_folders:\n",
    "        img_path = gb.glob(df+'/*.'+file_ext ) \n",
    "        \n",
    "        for path in img_path:\n",
    "            pl = path.lower()\n",
    "\n",
    "            img1 = cv2.imread(path, cv2.IMREAD_GRAYSCALE)#'data/Resized_256_256xBroken_0.JPG', cv2.IMREAD_GRAYSCALE)\n",
    "            if img1 is None:                   #判断读入的img1是否为空，为空就继续下一轮循环\n",
    "                        continue\n",
    "            res1= cv2.resize(img1,(res,res))              #对图片进行缩放，第一个参数是读入的图片，第二个是制定的缩放大小\n",
    "            res1 = cv2.equalizeHist(res1)\n",
    "            res1_1 = res1.flatten()/255.0 #res1_1 = res1.reshape(1,784)/255.0       #将表示图片的二维矩阵转换成一维\n",
    "            #im_data = np.concatenate((im_data, res1_1))\n",
    "            res1_1_1 = res1_1.tolist()                     #将numpy.narray类型的矩阵转换成list\n",
    "            total.append(res1_1_1)  \n",
    "            \n",
    "    return total\n"
   ]
  },
  {
   "cell_type": "code",
   "execution_count": 13,
   "metadata": {},
   "outputs": [],
   "source": [
    "data_folders = [\"data\"]\n",
    "\n",
    "data_list = data_load(data_folders, 64, file_ext='JPG')"
   ]
  },
  {
   "cell_type": "code",
   "execution_count": 12,
   "metadata": {},
   "outputs": [
    {
     "data": {
      "text/plain": [
       "NoneType"
      ]
     },
     "execution_count": 12,
     "metadata": {},
     "output_type": "execute_result"
    }
   ],
   "source": [
    "type(data_list)"
   ]
  },
  {
   "cell_type": "code",
   "execution_count": null,
   "metadata": {},
   "outputs": [],
   "source": [
    "# Save Spatial Domain Images"
   ]
  },
  {
   "cell_type": "code",
   "execution_count": null,
   "metadata": {},
   "outputs": [],
   "source": [
    "# Save Fourier Domain Iamges "
   ]
  },
  {
   "cell_type": "code",
   "execution_count": 2,
   "metadata": {},
   "outputs": [
    {
     "data": {
      "text/plain": [
       "(510, 680)"
      ]
     },
     "execution_count": 2,
     "metadata": {},
     "output_type": "execute_result"
    }
   ],
   "source": [
    "img.shape"
   ]
  },
  {
   "cell_type": "code",
   "execution_count": null,
   "metadata": {},
   "outputs": [],
   "source": []
  }
 ],
 "metadata": {
  "kernelspec": {
   "display_name": "Python 3",
   "language": "python",
   "name": "python3"
  },
  "language_info": {
   "codemirror_mode": {
    "name": "ipython",
    "version": 3
   },
   "file_extension": ".py",
   "mimetype": "text/x-python",
   "name": "python",
   "nbconvert_exporter": "python",
   "pygments_lexer": "ipython3",
   "version": "3.6.5"
  }
 },
 "nbformat": 4,
 "nbformat_minor": 2
}
